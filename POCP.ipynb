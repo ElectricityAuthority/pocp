{
 "metadata": {
  "name": "POCP"
 },
 "nbformat": 3,
 "nbformat_minor": 0,
 "worksheets": [
  {
   "cells": [
    {
     "cell_type": "code",
     "collapsed": false,
     "input": [
      "from pandas import *\n",
      "import mechanize\n",
      "from bs4 import BeautifulSoup\n",
      "import os,sys\n",
      "from datetime import date, datetime, time, timedelta\n",
      "from io import StringIO\n",
      "from ea_colours import ea_p,ea_s,part\n",
      "import pandas\n",
      "import pyodbc\n",
      "import pandas.io.sql as sql\n",
      "from dateutil.parser import parse\n",
      "#import matplotlib as plt\n",
      "def parse_time(x,parse):\n",
      "    if x != None:\n",
      "        x = parse(x)\n",
      "    else:\n",
      "       x= float('nan')\n",
      "    return x    \n"
     ],
     "language": "python",
     "metadata": {},
     "outputs": [],
     "prompt_number": 1
    },
    {
     "cell_type": "markdown",
     "metadata": {},
     "source": [
      "**Get Mappings**"
     ]
    },
    {
     "cell_type": "code",
     "collapsed": false,
     "input": [
      "#Get Max_node capacity offered from datawarehouse\n",
      "con = pyodbc.connect('DSN=NZxDaily_LIVE;UID=linux_user;PWD=linux')\n",
      "x = 'select * from fact.Max_Node_Capacity_Offered'\n",
      "max_offered = sql.read_frame(x, con,index_col='pnode_name')\n",
      "max_offered['First_MaxEnergyCapacity_Date'] = max_offered.First_MaxEnergyCapacity_Date.map(lambda x: parse(x))\n",
      "max_offered['Last_MaxEnergyCapacity_Date'] = max_offered.Last_MaxEnergyCapacity_Date.map(lambda x: parse(x))\n",
      "max_offered['Last_NonZeroOffer_Date'] = max_offered.Last_NonZeroOffer_Date.map(lambda x: parse_time(x,parse))\n",
      "max_offered = max_offered.rename(columns={'trader_id':'ID','Max_EnergyCapacity':'Max_offer','First_MaxEnergyCapacity_Date':'First_max_offer_date','Last_MaxEnergyCapacity_Date':'Last_max_offer_date','Last_NonZeroOffer_Date':'Last_nonzero_offer_date','Trader_CompanyCode':'Company_code','Trader_CompanyName':'Company_name'})\n",
      "ID_map_name = max_offered.ix[:,['ID','Company_name']].set_index('ID').drop_duplicates()\n",
      "ID_map = max_offered.ix[:,['ID','Company_code']].set_index('ID').drop_duplicates()\n",
      "ID_map['Colour'] = ID_map.Company_code.map(lambda x: part[x])"
     ],
     "language": "python",
     "metadata": {},
     "outputs": [],
     "prompt_number": 2
    },
    {
     "cell_type": "code",
     "collapsed": false,
     "input": [
      "#Get some useful mappings from Nicky's ConnectionNames.xls file, found at P:\\HH\\Source\\Locations\n",
      "names = ExcelFile('/home/humed/.gvfs/common on ecomfp01/HH/Source/Locations/ConnectionNames.xls') \n",
      "cron_maps = names.parse('Names')\n",
      "maps = names.parse('Connection Points')\n",
      "nsp = names.parse('NSP Mapping Table',skiprows=1)\n",
      "island = maps.ix[:,['Island','TPNZ Grid Busname','Point of Connection','Unnamed: 7','Unnamed: 8']].set_index('TPNZ Grid Busname').rename(columns={'Unnamed: 7':'ID','Unnamed: 8':'Type'})\n",
      "island = maps[maps['Point of Connection'] == maps['TPNZ Grid Busname']].set_index('TPNZ Grid Busname').rename(columns={'Unnamed: 7':'ID','Unnamed: 8':'Type'})\n",
      "GT={'ABY': 'Hydro','ANC': 'Thermal','ARA': 'Hydro','ARG': 'Hydro','ARI': 'Hydro','ASB': 'Hydro','ATI': 'Hydro','AVI': 'Hydro','BEN': 'Hydro','BLN': 'Hydro',\\\n",
      "    'BPE': 'Wind','BRB': 'Thermal','BWK': 'Hydro','COB': 'Hydro','COL': 'Hydro','CST': 'Hydro','CYD': 'Hydro','DOB': 'Hydro','HAM': 'Thermal','HKK': 'Hydro',\\\n",
      "    'HLY': 'Thermal','HUI': 'Hydro','HWA': 'Hydro','HWB': 'Wind','KAG': 'Geothermal','KAW': 'Geothermal','KPO': 'Hydro','KTW': 'Hydro','KUM': 'Hydro',\\\n",
      "    'LTN': 'Wind','MAN': 'Hydro','MAT': 'Hydro','MDN': 'Thermal','MTI': 'Hydro','NAP': 'Geothermal','NPL': 'Thermal','NSY': 'Hydro','OHA': 'Hydro','OHB': 'Hydro',\\\n",
      "    'OHC': 'Hydro','OHK': 'Hydro','OKI': 'Geothermal','OTA': 'Thermal','PPI': 'Geothermal','PRI': 'Hydro','ROT': 'Thermal','ROX': 'Hydro','RPO': 'Hydro',\\\n",
      "    'SFD': 'Thermal','SWN': 'Thermal','TAA': 'Geothermal','TAP': 'Wind','TGA': 'Hydro','TKA': 'Hydro','TKB': 'Hydro','TKU': 'Hydro','TMU': 'Thermal','TUI': 'Hydro',\\\n",
      "    'TUK': 'Wind','TWC': 'Wind','WHI': 'Thermal','WHL': 'Wind','WKM': 'Hydro','WPA': 'Hydro','WRK': 'Geothermal','WTK': 'Hydro','WWD': 'Wind'}\n",
      "island_map2 = island.reset_index().ix[:,['TPNZ Grid Busname','Island']]\n",
      "island_map2['TPNZ Grid Busname'] = island_map2['TPNZ Grid Busname'].map(lambda x: x[:3])\n",
      "island_map2=island_map2.drop_duplicates('TPNZ Grid Busname').set_index('TPNZ Grid Busname').Island.to_dict()\n",
      "island_map2[u'ANC'] = u'North'\n",
      "island_map2[u'KAG'] = u'North'\n",
      "island_map2[u'KTW'] = u'North'\n",
      "island_map2[u'NAP'] = u'North'\n",
      "island_map2[u'PRI'] = u'North'\n",
      "island_map2[u'TAA'] = u'North'\n",
      "island_map2[u'TAP'] = u'North'\n",
      "island_map2[u'TUK'] = u'North'\n",
      "island_map2[u'WHL'] = u'South'\n",
      "island_map2[u'WWD'] = u'North'\n",
      "island_map = DataFrame({'Island':max_offered.island})\n",
      "island_map['code1'] = island_map.index.map(lambda x: x.split(' ')[0][0:3])\n",
      "island_map['code2'] = island_map.index.map(lambda x: x.split(' ')[1][0:3])\n",
      "island_map = island_map.drop_duplicates(cols='code2').set_index('code2')"
     ],
     "language": "python",
     "metadata": {},
     "outputs": [],
     "prompt_number": 3
    },
    {
     "cell_type": "markdown",
     "metadata": {},
     "source": [
      "**Download and update local POCP database**"
     ]
    },
    {
     "cell_type": "code",
     "collapsed": false,
     "input": [
      "#Note: downloads from the POCP redspider server appear to be limited to 10000 rows max.  This is about 1 years worth of data, so downloads can not be any more than this.\n",
      "#\n",
      "#\n",
      "bufferIO = StringIO()\n",
      "pandas.set_printoptions(max_rows=1000,max_columns=1000)\n",
      "password = 'bx6p5ds3w0nHF'\n",
      "email = 'david.hume'\n",
      "url = 'http://pocp.redspider.co.nz/'\n",
      "start_time = (datetime.now() - timedelta(0.5*365))\n",
      "start_time = start_time.isoformat().split('T')[0].split('-')[2] + '/' + start_time.isoformat().split('T')[0].split('-')[1] + '/' + start_time.isoformat().split('T')[0].split('-')[0]\n",
      "end_time = (datetime.now() + timedelta(0.5*365))\n",
      "end_time = end_time.isoformat().split('T')[0].split('-')[2] + '/' + end_time.isoformat().split('T')[0].split('-')[1] + '/' + end_time.isoformat().split('T')[0].split('-')[0]\n",
      "print 'Get POCP between ' + start_time + ' and ' + end_time\n",
      "\n",
      "def POCP_date_parser(datestr):\n",
      "    d=datestr.replace('/',' ').replace(':',' ').split(' ')\n",
      "    return datetime(int('20' + d[2]),int(d[1]),int(d[0]),int(d[3]),int(d[4]))\n",
      "\n",
      "def groupbywhat(data,what):\n",
      "    grouped = data.groupby(what)\n",
      "    groupy = {}\n",
      "    for whats,sliced in grouped:\n",
      "        groupy[whats] = sliced\n",
      "    return Panel(groupy)\n",
      "\n",
      "def POCP_current(P,curr_wk_4wk):\n",
      "    def get_curr(tdc):\n",
      "        #X=P[tdc][notnull(P[tdc]['Category'])]\n",
      "        X=P.groupby('Category').T.T[tdc]\n",
      "        current_bool = (X['Start']<=datetime.today()) & (X['End']>=(datetime.today())) & (X['Planning Status']!='Cancelled')\n",
      "        week_bool = (X['Start']<=(datetime.today()+timedelta(days=7))) & (X['End']>=(datetime.today()))\n",
      "        four_weeks_bool = (X['Start']<=(datetime.today()+timedelta(days=28))) & (X['End']>=(datetime.today()))\n",
      "        if curr_wk_4wk == 'current':\n",
      "            X = X[current_bool]\n",
      "        if curr_wk_4wk == 'week':\n",
      "            X = X[week_bool]\n",
      "        if curr_wk_4wk == '4week':\n",
      "            X = X[four_weeks_bool]\n",
      "        if X.empty:\n",
      "            print 62*'=' + ' NO ' + curr_wk_4wk.upper() + ' ' + tdc.upper() + ' OUTAGES AT ' + str(datetime.today()) + 62*'='\n",
      "        else:\n",
      "            X['Duration'] = X.End-X.Start\n",
      "            if tdc == 'Transmission':\n",
      "                del X['MW remaining']\n",
      "                del X['MW Loss']\n",
      "                del X['MV remaining']\n",
      "                print 61*'=' + curr_wk_4wk.upper() + ' ' + tdc.upper() + ' OUTAGES AT ' + str(datetime.today()) + 61*'='\n",
      "                #X=X.sort(columns=['Duration'],ascending = False)\n",
      "            if tdc == 'Generation':\n",
      "                del X['Nature']\n",
      "                X['NP_MWh']=X['Duration'].map(lambda x: x.total_seconds()/3600) * X['MW Loss']\n",
      "                X=X.sort(columns=['NP_MWh'],ascending = False)\n",
      "                total_out = X['MW Loss'].sum()\n",
      "                print 68*'=' + curr_wk_4wk.upper() + ' ' + tdc.upper() + ' OUTAGES AT ' + str(datetime.today()) + ' ***TOTAL=' + str(total_out) + 'MW***' + 68*'=' \n",
      "            if tdc == 'Direct Connection':        \n",
      "                print 75*'=' + curr_wk_4wk.upper() + ' ' + tdc.upper() + ' OUTAGES AT ' + str(datetime.today()) + 75*'='\n",
      "            X=X.set_index('id')\n",
      "            del X['Category']\n",
      "            print X\n",
      "\n",
      "            return X \n",
      "\n",
      "    T = get_curr('Transmission')\n",
      "    G = get_curr('Generation')\n",
      "    D = get_curr('Direct Connection')\n",
      "    \n",
      "    return T,G,D\n",
      "\n",
      "#Download the entire POCP database and whack into a DataFrame with read_csv\n",
      "br=mechanize.Browser(factory=mechanize.RobustFactory())\n",
      "#br = mechanize.Browser() # Browser\n",
      "br.set_handle_refresh(mechanize._http.HTTPRefreshProcessor(), max_time=1) # Follows refresh 0 but not hangs on refresh > 0\n",
      "br.addheaders = [('User-agent', 'Mozilla/5.0 (X11; U; Linux i686; en-US; rv:1.9.0.1) Gecko/2008071615 Fedora/3.0.1-1.fc9 Firefox/3.0.1')] # User-Agent (this is cheating, ok?)\n",
      "r=br.open(url)\n",
      "br.select_form(nr=0)\n",
      "br.submit()  #click I agree\n",
      "\n",
      "#Now login\n",
      "br.select_form(nr=0)\n",
      "br['email'] = email\n",
      "br['password'] = password\n",
      "br.submit()  #submit user name and password.\n",
      "br.select_form(nr=0)     #select form \n",
      "br['sview'] = ['excel']  #select \"excel\" although this is in fact a tab delimited table\n",
      "br['start'] = start_time #set start and end times from above\n",
      "br['end'] = end_time\n",
      "br['planning_status_id[]'] = ['1','2','3'] #['1','2','3']\n",
      "\n",
      "response = br.submit()   #submit the search/download for all POCP data between start_time and end_time, save as response\n",
      "bufferIO = StringIO()    #Open a string buffer object, write the POCP database to this then read_csv the data...\n",
      "bufferIO.write(unicode(response.read())) \n",
      "bufferIO.seek(0)\n",
      "pocp = read_csv(bufferIO,parse_dates=['Start','End','Last Modified'],date_parser=POCP_date_parser,sep='\\t')\n",
      "\n",
      "#add current POCP download to all time POCP data then drop duplicates\n",
      "store = HDFStore('/home/humed/python/POCP/pocp_all.h5','r')\n",
      "P_all = store['POCP']   # read all previous pocp data\n",
      "store.close()\n",
      "P = concat([P_all,pocp])   #add latest download \n",
      "P = P.drop_duplicates()    #and drop any duplicates\n",
      "store = HDFStore('/home/humed/python/POCP/pocp_all.h5','w')\n",
      "store['POCP'] = P  # read all previous pocp data\n",
      "store.close()\n",
      "P.to_csv('pocp_all.csv')\n",
      "\n",
      "\n",
      "#Report current confirmed (+tentative) outages\n",
      "[T,G,D] = POCP_current(pocp,'current')"
     ],
     "language": "python",
     "metadata": {},
     "outputs": [
      {
       "output_type": "stream",
       "stream": "stdout",
       "text": [
        "Get POCP between 19/06/2012 and 19/06/2013\n",
        "=============================================================CURRENT TRANSMISSION OUTAGES AT 2012-12-19 09:25:35.686973============================================================="
       ]
      },
      {
       "output_type": "stream",
       "stream": "stdout",
       "text": [
        "\n",
        "            Outage Block     GIP/GXPs                Start                  End        Type Nature       Owner Assessment        Last Modified Planning Status             Duration\n",
        "id                                                                                                                                                                                 \n",
        "2705100         ISL_SC_4          ISL  2010-06-30 18:01:00  2013-11-30 17:30:00  continuous     RS  Transpower        New  2012-12-07 10:23:00       Confirmed  1248 days, 23:29:00\n",
        "2738451           PEN_T8          PEN  2012-01-16 07:00:00  2012-12-31 18:00:00  continuous     RS  Transpower        New  2012-11-01 06:23:00       Confirmed   350 days, 11:00:00\n",
        "2740334       ALB_CB_742          ALB  2012-03-30 12:00:00  2013-05-01 18:00:00  continuous     RS  Transpower        New  2012-08-05 08:23:00       Confirmed    397 days, 6:00:00\n",
        "2753172        BEN_HAY_1      HAY,BEN  2012-08-01 10:00:00  2013-01-31 18:00:00  continuous     RS  Transpower        New  2012-12-18 06:22:00       Confirmed    183 days, 8:00:00\n",
        "2765652       SWN_CB_252          SWN  2012-09-30 21:00:00  2013-04-30 18:00:00  continuous     RS  Transpower        New  2012-10-01 14:23:00       Confirmed   211 days, 21:00:00\n",
        "2768106       PAO_CB_212          PAO  2012-11-27 07:30:00  2012-12-31 18:30:00  continuous     RS  Transpower        New  2012-12-07 10:23:00       Confirmed    34 days, 11:00:00\n",
        "2772067  NAP_144_154_177          NAP  2012-12-10 07:30:00  2012-12-20 18:00:00  continuous     RS  Transpower        New  2012-12-18 06:22:00       Confirmed    10 days, 10:30:00\n",
        "2772068       NAP_CB_142          NAP  2012-12-10 07:30:00  2012-12-20 18:00:00  continuous     RS  Transpower        New  2012-12-18 06:22:00       Confirmed    10 days, 10:30:00\n",
        "2772069        NAP_WRK_2      WRK,NAP  2012-12-10 07:30:00  2012-12-20 18:00:00  continuous     RS  Transpower        New  2012-12-18 06:22:00       Confirmed    10 days, 10:30:00\n",
        "2752799        INV_NMA_1      NMA,INV  2012-12-17 06:00:00  2012-12-20 20:00:00  continuous     RS  Transpower        New  2012-12-18 06:22:00       Confirmed     3 days, 14:00:00\n",
        "2751641           BPE_T3          BPE  2012-12-17 07:30:00  2012-12-20 18:00:00       daily     RS  Transpower        New  2012-12-19 06:22:00       Confirmed     3 days, 10:30:00\n",
        "2752050  OTA_537_597_587          OTA  2012-12-17 07:30:00  2012-12-20 17:30:00  continuous     RS  Transpower        New  2012-10-18 11:23:00       Confirmed     3 days, 10:00:00\n",
        "2752051           OTA_T5          OTA  2012-12-17 07:30:00  2012-12-20 17:30:00  continuous     RS  Transpower        New  2012-10-18 11:23:00       Confirmed     3 days, 10:00:00\n",
        "2752798           ISL_T2          ISL  2012-12-17 07:30:00  2012-12-21 18:00:00  continuous     RS  Transpower        New  2012-10-15 15:23:00       Confirmed     4 days, 10:30:00\n",
        "2752802         ISL_C_22          ISL  2012-12-17 07:30:00  2012-12-21 18:00:00  continuous     RS  Transpower        New  2012-10-15 15:23:00       Confirmed     4 days, 10:30:00\n",
        "2772739       OTA_CB_412          OTA  2012-12-17 07:30:00  2012-12-20 17:30:00  continuous    OPE  Transpower        New  2012-11-28 11:23:00       Confirmed     3 days, 10:00:00\n",
        "2772498        HWB_TMH_1      TMH,HWB  2012-12-18 07:00:00  2012-12-19 16:00:00  continuous     RS  Transpower        New  2012-12-19 06:22:00       Confirmed       1 day, 9:00:00\n",
        "2751649           RDF_T3          RDF  2012-12-18 07:30:00  2012-12-19 17:30:00       daily     RS  Transpower        New  2012-11-09 08:23:00       Confirmed      1 day, 10:00:00\n",
        "2768914           ALB_T3          ALB  2012-12-18 07:30:00  2012-12-19 19:00:00  continuous     RS  Transpower        New  2012-10-18 11:23:00       Confirmed      1 day, 11:30:00\n",
        "2770928        KAW_MAT_1      MAT,KAW  2012-12-18 07:30:00  2012-12-19 18:00:00  continuous     RS  Transpower        New  2012-12-15 06:22:00       Confirmed      1 day, 10:30:00\n",
        "2771987  CCT_686_CUL_UPC  UPC,CUL,CCT  2012-12-18 08:00:00  2012-12-19 18:00:00       daily     RS  Transpower        New  2012-12-18 11:22:00       Confirmed      1 day, 10:00:00\n",
        "2771988  CCT_696_CUL_UPC  UPC,CUL,CCT  2012-12-18 08:00:00  2012-12-19 18:00:00       daily     RS  Transpower        New  2012-12-18 11:22:00       Confirmed      1 day, 10:00:00\n",
        "2771974        CUL_KIK_3      KIK,CUL  2012-12-18 11:30:00  2012-12-19 12:00:00  continuous     RS  Transpower        New  2012-11-15 14:23:00       Confirmed       1 day, 0:30:00\n",
        "2751654      HAY_220BS_C          HAY  2012-12-19 07:00:00  2012-12-19 17:30:00       daily     RS  Transpower        New  2012-10-31 09:23:00       Confirmed             10:30:00\n",
        "2771977          CUL_T23          CUL  2012-12-19 07:00:00  2012-12-19 12:00:00       daily    OPE  Transpower        New  2012-11-13 16:23:00       Confirmed              5:00:00\n",
        "2771980    ISL_WPR_CUL_3  WPR,ISL,CUL  2012-12-19 07:00:00  2012-12-19 12:00:00       daily     RS  Transpower        New  2012-11-15 14:23:00       Confirmed              5:00:00\n",
        "2771986          WPR_T13          WPR  2012-12-19 07:00:00  2012-12-19 12:00:00       daily    OPE  Transpower        New  2012-11-13 16:23:00       Confirmed              5:00:00\n",
        "2771224    MST_GYT_UHT_1  UHT,MST,GYT  2012-12-19 07:30:00  2012-12-20 17:00:00       daily     RS  Transpower        New  2012-11-01 10:23:00       Confirmed       1 day, 9:30:00\n",
        "2773026           GYT_T2          GYT  2012-12-19 07:30:00  2012-12-20 17:00:00       daily     RS  Transpower        New  2012-12-07 10:23:00       Confirmed       1 day, 9:30:00\n",
        "2773522        BPE_TKU_2      BPE,TKU  2012-12-19 09:00:00  2012-12-19 20:00:00       daily     RS  Transpower        New  2012-12-11 11:23:00       Confirmed             11:00:00\n",
        "====================================================================CURRENT GENERATION OUTAGES AT 2012-12-19 09:25:36.202084 ***TOTAL=1200.1MW***===================================================================="
       ]
      },
      {
       "output_type": "stream",
       "stream": "stdout",
       "text": [
        "\n",
        "            Outage Block GIP/GXPs                Start                  End        Type         Owner Assessment        Last Modified Planning Status MW remaining MW Loss MV remaining            Duration   NP_MWh\n",
        "id                                                                                                                                                                                                                  \n",
        "48983               HLY2      HLY  2012-12-18 13:00:00  2013-04-04 18:00:00  continuous       Genesis        New  2012-12-17 14:43:00       Confirmed            0     245            0   107 days, 5:00:00   630385\n",
        "53469               BEN1      BEN  2012-10-29 07:00:00  2013-04-11 22:00:00  continuous      Meridian        New  2012-06-20 10:40:00       Confirmed            0      90            0  164 days, 15:00:00   355590\n",
        "53470               BEN2      BEN  2012-10-29 07:00:00  2013-04-11 22:00:00  continuous      Meridian        New  2012-06-20 10:40:00       Confirmed            0      90            0  164 days, 15:00:00   355590\n",
        "43327               HLY3      HLY  2012-12-12 00:00:00  2013-02-10 00:00:00  continuous       Genesis        New  2012-12-04 13:11:00       Confirmed            0     243            0    60 days, 0:00:00   349920\n",
        "50646            MTI_STN      MTI  2012-11-07 14:00:00  2013-05-10 21:00:00  continuous  Mighty River        New  2012-11-07 23:36:00       Confirmed          313      39            0   184 days, 7:00:00   172497\n",
        "39486              OHK_2      OHK  2012-10-15 09:30:00  2013-04-22 21:30:00  continuous  Mighty River        New  2012-11-14 23:35:00       Confirmed            0    26.5            0  189 days, 12:00:00   120522\n",
        "50676              MTI_1      MTI  2012-11-19 07:00:00  2013-03-26 19:00:00  continuous  Mighty River        New  2012-12-14 11:35:00       Confirmed            0    35.2            0  127 days, 12:00:00   107712\n",
        "44180              ARI_8      ARI  2012-11-14 07:00:00  2013-03-05 17:00:00  continuous  Mighty River        New  2012-09-19 08:06:00       Confirmed            0      24            0  111 days, 10:00:00    64176\n",
        "50388              SWN_5      SWN  2012-11-26 00:00:00  2013-01-10 18:00:00  continuous  Mighty River        New  2012-12-11 23:36:00       Confirmed            0      50            0   45 days, 18:00:00    54900\n",
        "49836              KPO_1      KPO  2012-02-16 08:52:00  2013-03-01 16:00:00  continuous  Mighty River        New  2012-11-26 23:35:00       Confirmed           26       6            0   379 days, 7:08:00  54618.8\n",
        "39587              MTI_6      MTI  2012-10-23 07:00:00  2012-12-19 19:00:00  continuous  Mighty River        New  2012-12-05 23:35:00       Confirmed            0    35.2            0   57 days, 12:00:00    48576\n",
        "41517              ATI_3      ATI  2012-12-03 07:00:00  2012-12-19 19:00:00  continuous  Mighty River        New  2012-12-18 23:35:00       Confirmed            0    18.5            0   16 days, 12:00:00     7326\n",
        "TRUS8559COL      COL_STN      COL  2012-12-03 08:00:00  2012-12-20 16:30:00  continuous    Trustpower        New  2012-12-11 12:11:00       Tentative          NaN       9          NaN    17 days, 8:30:00   3748.5\n",
        "45177              SWN_1      SWN  2012-12-19 00:00:00  2012-12-20 18:00:00  continuous  Mighty River        New  2012-12-10 23:36:00       Confirmed            0      45            0     1 day, 18:00:00     1890\n",
        "44183              MTI_7      MTI  2012-12-18 07:00:00  2012-12-19 19:00:00  continuous  Mighty River        New  2012-12-05 23:35:00       Confirmed            0    35.2            0     1 day, 12:00:00   1267.2\n",
        "TRUS8575BWK      BWK_STN      BWK  2012-12-17 09:00:00  2012-12-19 17:00:00  continuous    Trustpower        New  2012-12-11 12:11:00       Tentative          NaN      20          NaN     2 days, 8:00:00     1120\n",
        "45183              SWN_3      SWN  2012-12-19 00:00:00  2012-12-20 18:00:00  continuous  Mighty River        New  2012-12-10 23:36:00       Confirmed           15      20            0     1 day, 18:00:00      840\n",
        "55538               TUK3      TUK  2012-12-18 08:00:00  2012-12-19 17:00:00  continuous      Meridian        New  2012-12-12 01:59:00       Confirmed            0    25.3            0      1 day, 9:00:00    834.9\n",
        "49762               TKU2      TKU  2012-12-19 08:00:00  2012-12-19 18:00:00  continuous       Genesis        New  2012-10-16 16:48:00       Confirmed            0      60            0            10:00:00      600\n",
        "50200               TKA1      TKA  2012-12-19 06:00:00  2012-12-19 17:30:00  continuous       Genesis        New  2012-12-11 13:15:00       Confirmed            0    25.2            0            11:30:00    289.8\n",
        "41782               WTK6      WTK  2012-12-19 07:30:00  2012-12-19 19:30:00  continuous      Meridian        New  2012-11-02 02:00:00       Confirmed            0      15            0            12:00:00      180\n",
        "50380            TUI_STN      TUI  2012-12-18 07:30:00  2012-12-20 18:00:00  continuous       Genesis        New  2012-12-17 14:43:00       Confirmed            0     NaN            0    2 days, 10:30:00      NaN\n",
        "50792              ARI_5      ARI  2012-12-19 09:00:00  2012-12-19 15:00:00  continuous  Mighty River        New  2012-12-17 11:36:00       Confirmed            0      24            0             6:00:00      144\n",
        "48406              WPA_1      WPA  2012-12-19 09:00:00  2012-12-19 11:30:00  continuous  Mighty River        New  2012-10-18 23:36:00       Confirmed            0      18            0             2:30:00       45\n",
        "TRUS8606HKK      HKK_STN      HKK  2012-12-19 08:00:00  2012-12-19 17:00:00  continuous    Trustpower        New  2012-12-15 05:03:00       Tentative          NaN       1          NaN             9:00:00        9\n",
        "============================================================== NO CURRENT DIRECT CONNECTION OUTAGES AT 2012-12-19 09:25:36.705703=============================================================="
       ]
      },
      {
       "output_type": "stream",
       "stream": "stdout",
       "text": [
        "\n"
       ]
      },
      {
       "output_type": "stream",
       "stream": "stderr",
       "text": [
        "/usr/local/lib/python2.7/dist-packages/pandas-0.10.0.dev_16becb0-py2.7-linux-x86_64.egg/pandas/core/format.py:1206: FutureWarning: set_printoptions is deprecated, use set_option instead\n",
        "  FutureWarning)\n"
       ]
      }
     ],
     "prompt_number": 4
    },
    {
     "cell_type": "code",
     "collapsed": false,
     "input": [
      "#Modify POCP data to be more usefull historically - there are a few assumptions here...\n",
      "P['End2']=P['End'] #Adjust end time if planned outage period was cancelled before planned end time\n",
      "P['End2'][((P['Last Modified']>P['Start']) & (P['Last Modified']<P['End']))] = P['Last Modified'][((P['Last Modified']>P['Start']) & (P['Last Modified']<P['End']))]\n",
      "#POCP entries cancelled after the end time\n",
      "P_cancelled = P[((P['Planning Status']==('Cancelled')) & (P['End2']<=P['Last Modified']))] #return outages that were cancelled after the end date (this is not robust as we use the last modified tag to determine this...lets try anyway)\n",
      "#All current past and present POCP entries that are/remain confirmed\n",
      "P_confirmed = P[(P['Planning Status']==('Confirmed'))] \n",
      "#For fun look at tentative outages\n",
      "P_tent = P[(P['Planning Status']==('Tentative'))] \n",
      "P_all = P[(((P['Planning Status']==('Cancelled')) & (P['End2']<=P['Last Modified'])) | (P['Planning Status']=='Confirmed'))] #does not include tentative...\n",
      "P_all_tent = P[(((P['Planning Status']==('Cancelled')) & (P['End2']<=P['Last Modified'])) | (P['Planning Status']=='Confirmed') | (P['Planning Status']=='Tentative'))] #includes tentative...\n",
      "P_G = P_all[P_all['Category'] == 'Generation']\n",
      "P_T = P_all[P_all['Category'] == 'Transmission']\n",
      "P_D = P_all[P_all['Category'] == 'Direct Connection']\n",
      "\n",
      "P_Gt = P_all_tent[P_all_tent['Category'] == 'Generation']\n",
      "P_Tt = P_all_tent[P_all_tent['Category'] == 'Transmission']\n",
      "P_Dt = P_all_tent[P_all_tent['Category'] == 'Direct Connection']\n",
      "\n",
      "\n",
      "#Clean the data as best we can...probably can do better?\n",
      "P_G = P_G[notnull(P_G.Category)]    #remove any nulls\n",
      "P_G.Owner[isnull(P_G.Owner)] = 'Other' #set nulls to other if they exist\n",
      "P_G=P_G[notnull(P_G['GIP/GXPs'])]\n",
      "P_G['GIP/GXPs']=P_G['GIP/GXPs'].map(lambda x: x[0:3])\n",
      "P_G = P_G.ix[:,['Start','End2','MW Loss','Outage Block','GIP/GXPs','Owner','id']]\n",
      "P_G = P_G.rename(columns={'GIP/GXPs':'GIP'})\n",
      "P_G['GIP'][P_G['GIP']=='#N/']='NAP'\n",
      "P_G = P_G.dropna(how='any')\n",
      "P_G = P_G[P_G['MW Loss']>0]\n",
      "P_G['Island'] = P_G.GIP.map(lambda x: island_map2[x])\n",
      "P_Gn=P_G[P_G['Island']=='North']\n",
      "P_Gs=P_G[P_G['Island']=='South']"
     ],
     "language": "python",
     "metadata": {},
     "outputs": [],
     "prompt_number": 7
    },
    {
     "cell_type": "code",
     "collapsed": false,
     "input": [
      "mt = P[P['Category']=='Generation']['Last Modified'].map(lambda x: x.hour)"
     ],
     "language": "python",
     "metadata": {},
     "outputs": [],
     "prompt_number": 56
    },
    {
     "cell_type": "code",
     "collapsed": false,
     "input": [
      "mt.hist(bins=24)\n",
      "title('Counts of Last Modified times of POCP database (Generation outages only)')\n"
     ],
     "language": "python",
     "metadata": {},
     "outputs": [
      {
       "output_type": "pyout",
       "prompt_number": 66,
       "text": [
        "<matplotlib.text.Text at 0x6a65b50>"
       ]
      }
     ],
     "prompt_number": 66
    },
    {
     "cell_type": "code",
     "collapsed": false,
     "input": [
      "|"
     ],
     "language": "python",
     "metadata": {},
     "outputs": [],
     "prompt_number": 6
    },
    {
     "cell_type": "code",
     "collapsed": false,
     "input": [
      "x =POCP_to_timeseries(P_G,start_time,end_time) #stop)"
     ],
     "language": "python",
     "metadata": {},
     "outputs": [],
     "prompt_number": 9
    },
    {
     "cell_type": "code",
     "collapsed": false,
     "input": [
      "fig = plt.figure(1,figsize=[20,18])\n",
      "plt.subplots_adjust(left=0.1, right=0.9, top=0.9, bottom=0.1)\n",
      "ax1 = fig.add_subplot(211)\n",
      "x.groupby(level=['Company'],axis=1).sum()['Contact Energy'].plot(c=part['CTCT'],drawstyle='steps-post',ax=ax1,lw=1,label = 'Contact Energy')\n",
      "x.groupby(level=['Company'],axis=1).sum()['Genesis'].plot(c = part['GENE'],drawstyle='steps-post',ax=ax1,lw=1,label = 'Genesis')\n",
      "x.groupby(level=['Company'],axis=1).sum()['Meridian'].plot(c = part['MERI'],drawstyle='steps-post',ax=ax1,lw=1,label = 'Meridian')\n",
      "x.groupby(level=['Company'],axis=1).sum()['Mighty River'].plot(c = part['MRPL'],drawstyle='steps-post',ax=ax1,lw=1,label = 'Mighty River Power')\n",
      "x.groupby(level=['Company'],axis=1).sum()['Trustpower'].plot(c = part['TRUS'],drawstyle='steps-post',ax=ax1,lw=1,label = 'Trustpower')\n",
      "#x.sum(axis=1).plot(c = ea_p['br1'],drawstyle='steps-post',ax=ax1,lw=1,label = 'Total')\n",
      "plt.ylabel('MW')\n",
      "plt.title('Current POCP outage data as of ' + str(datetime.now())[:-10])\n",
      "plt.legend(loc=2)\n",
      "plt.grid('on')\n",
      "plt.axvline(datetime.now(),alpha=0.5,lw=2,c=ea_s['pk1'])\n",
      "#hvdc outage\n",
      "#axvspan(datetime(2012,12,1,10,0),datetime(2012,12,1,16,0),alpha=0.5,lw=2,facecolor=ea_s['pk1'])\n",
      "plt.xticks(rotation=0)\n",
      "ax2 = fig.add_subplot(212, sharex=ax1)\n",
      "x.sum(axis=1).plot(c = ea_p['br1'],drawstyle='steps-post',ax=ax2,lw=1,label = 'Total')\n",
      "x.groupby(level=['Island'],axis=1).sum()['North'].plot(drawstyle='steps-post',ax=ax2,c=ea_p['rd1'],label='North Island')\n",
      "x.groupby(level=['Island'],axis=1).sum()['South'].plot(drawstyle='steps-post',ax=ax2,c=ea_p['bl1'],label='South Island')\n",
      "\n",
      "#(total_capacity-pocp_C['Total']).plot(c = ea_p['br1'],drawstyle='steps-post',ax=ax2,lw=2,label='Available generation')\n",
      "#Series(max_offered_sub.sum(), index=pocp_C.index).plot(style='k',drawstyle='steps-post',label='Sum of maximum offered capacity (since 2009, exc. wind)',ax=ax2,lw=4,c=ea_s['pr1'])\n",
      "plt.legend(loc=2)\n",
      "plt.ylabel('MW')\n",
      "#ylim([0,10000])\n",
      "#title('Total available generation capacity')\n",
      "plt.grid('on')\n",
      "plt.axvline(datetime.now(),alpha=0.5,lw=2,c=ea_s['pk1'])\n",
      "##hvdc outage\n",
      "#axvspan(datetime(2012,12,1,10,0),datetime(2012,12,1,16,0),alpha=0.5,lw=2,facecolor=ea_s['pk1'])\n",
      "plt.xticks(rotation=0)\n"
     ],
     "language": "python",
     "metadata": {},
     "outputs": [
      {
       "output_type": "pyout",
       "prompt_number": 10,
       "text": [
        "(array([22334400, 22351680, 22396320, 22440960, 22484160, 22528800,\n",
        "       22572000, 22616640, 22661280, 22701600, 22746240, 22789440,\n",
        "       22834080, 22860000]),\n",
        " <a list of 14 Text xticklabel objects>)"
       ]
      }
     ],
     "prompt_number": 10
    },
    {
     "cell_type": "code",
     "collapsed": false,
     "input": [
      "datetime.now().date().isoformat()"
     ],
     "language": "python",
     "metadata": {},
     "outputs": [
      {
       "output_type": "pyout",
       "prompt_number": 14,
       "text": [
        "'2012-12-18'"
       ]
      }
     ],
     "prompt_number": 14
    },
    {
     "cell_type": "code",
     "collapsed": false,
     "input": [
      "\n",
      "def plot_fig(x,start_time,end_time,short_long):\n",
      "    plt.close('all')\n",
      "    fig = plt.figure(figsize=[15,13.5])\n",
      "    plt.subplots_adjust(left=0.1, right=0.9, top=0.9, bottom=0.1)\n",
      "    ax1 = fig.add_subplot(211)\n",
      "    x.groupby(level=['Company'],axis=1).sum()['Contact Energy'].plot(c=part['CTCT'],drawstyle='steps-post',ax=ax1,lw=1,label = 'Contact Energy')\n",
      "    x.groupby(level=['Company'],axis=1).sum()['Genesis'].plot(c = part['GENE'],drawstyle='steps-post',ax=ax1,lw=1,label = 'Genesis')\n",
      "    x.groupby(level=['Company'],axis=1).sum()['Meridian'].plot(c = part['MERI'],drawstyle='steps-post',ax=ax1,lw=1,label = 'Meridian')\n",
      "    x.groupby(level=['Company'],axis=1).sum()['Mighty River'].plot(c = part['MRPL'],drawstyle='steps-post',ax=ax1,lw=1,label = 'Mighty River Power')\n",
      "    x.groupby(level=['Company'],axis=1).sum()['Trustpower'].plot(c = part['TRUS'],drawstyle='steps-post',ax=ax1,lw=1,label = 'Trustpower')\n",
      "    plt.ylabel('MW')\n",
      "    plt.title('Current POCP outage data as of ' + str(datetime.now())[:-10])\n",
      "    plt.legend(loc=2)\n",
      "    plt.grid('on')\n",
      "    plt.axvline(datetime.now(),alpha=0.5,lw=2,c=ea_s['pk1'])\n",
      "    plt.xticks(rotation=0)\n",
      "    plt.xlim([start_time,end_time])\n",
      "    ax2 = fig.add_subplot(212, sharex=ax1)\n",
      "    x.sum(axis=1).plot(c = ea_p['br1'],drawstyle='steps-post',ax=ax2,lw=1,label = 'Total')\n",
      "    x.groupby(level=['Island'],axis=1).sum()['North'].plot(drawstyle='steps-post',ax=ax2,c=ea_p['rd1'],label='North Island')\n",
      "    x.groupby(level=['Island'],axis=1).sum()['South'].plot(drawstyle='steps-post',ax=ax2,c=ea_p['bl1'],label='South Island')\n",
      "    plt.legend(loc=2)\n",
      "    plt.ylabel('MW')\n",
      "    plt.grid('on')\n",
      "    plt.axvline(datetime.now(),alpha=0.5,lw=2,c=ea_s['pk1'])\n",
      "    plt.xticks(rotation=0)\n",
      "    plt.xlim([start_time,end_time])\n",
      "    plt.savefig('./plots/' + short_long + '/pocp_at_' + datetime.now().date().isoformat() + '.png',bbox_inches='tight',dpi=100)\n",
      "\n",
      "x =POCP_to_timeseries(P_G,start_time,end_time)\n",
      "plot_fig(x,start_time,end_time,'long')\n",
      "strt = (datetime.now() - timedelta(7*2))\n",
      "endt = (datetime.now() + timedelta(7*4))\n",
      "plot_fig(x,strt,endt,'short')\n"
     ],
     "language": "python",
     "metadata": {},
     "outputs": [],
     "prompt_number": 27
    },
    {
     "cell_type": "code",
     "collapsed": false,
     "input": [
      "end_time2"
     ],
     "language": "python",
     "metadata": {},
     "outputs": [
      {
       "output_type": "pyout",
       "prompt_number": 21,
       "text": [
        "'15/01/2013'"
       ]
      }
     ],
     "prompt_number": 21
    },
    {
     "cell_type": "markdown",
     "metadata": {},
     "source": [
      "http://www.systemoperator.co.nz/f1686,79447703/SpdLocatordwg.pdf"
     ]
    }
   ],
   "metadata": {}
  }
 ]
}